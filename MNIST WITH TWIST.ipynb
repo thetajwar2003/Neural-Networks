{
 "cells": [
  {
   "cell_type": "code",
   "execution_count": 133,
   "metadata": {},
   "outputs": [],
   "source": [
    "import pandas as pd\n",
    "import numpy as np\n",
    "import matplotlib.pyplot as plt\n",
    "import tensorflow.keras as keras\n",
    "from keras.utils import to_categorical\n",
    "from keras.models import Sequential\n",
    "from keras.layers import Dense, Activation, Dropout, Flatten\n",
    "from keras.callbacks import ModelCheckpoint, EarlyStopping\n",
    "from keras import regularizers\n",
    "from sklearn.datasets import load_digits\n",
    "from sklearn.model_selection import train_test_split\n",
    "from sklearn.metrics import confusion_matrix\n",
    "from numpy import argmax\n",
    "from sklearn.metrics import f1_score\n",
    "import seaborn as sns"
   ]
  },
  {
   "cell_type": "code",
   "execution_count": 83,
   "metadata": {},
   "outputs": [
    {
     "data": {
      "text/plain": [
       "dict_keys(['data', 'target', 'target_names', 'images', 'DESCR'])"
      ]
     },
     "execution_count": 83,
     "metadata": {},
     "output_type": "execute_result"
    }
   ],
   "source": [
    "load_digits().keys()"
   ]
  },
  {
   "cell_type": "code",
   "execution_count": 84,
   "metadata": {},
   "outputs": [
    {
     "name": "stdout",
     "output_type": "stream",
     "text": [
      ".. _digits_dataset:\n",
      "\n",
      "Optical recognition of handwritten digits dataset\n",
      "--------------------------------------------------\n",
      "\n",
      "**Data Set Characteristics:**\n",
      "\n",
      "    :Number of Instances: 5620\n",
      "    :Number of Attributes: 64\n",
      "    :Attribute Information: 8x8 image of integer pixels in the range 0..16.\n",
      "    :Missing Attribute Values: None\n",
      "    :Creator: E. Alpaydin (alpaydin '@' boun.edu.tr)\n",
      "    :Date: July; 1998\n",
      "\n",
      "This is a copy of the test set of the UCI ML hand-written digits datasets\n",
      "https://archive.ics.uci.edu/ml/datasets/Optical+Recognition+of+Handwritten+Digits\n",
      "\n",
      "The data set contains images of hand-written digits: 10 classes where\n",
      "each class refers to a digit.\n",
      "\n",
      "Preprocessing programs made available by NIST were used to extract\n",
      "normalized bitmaps of handwritten digits from a preprinted form. From a\n",
      "total of 43 people, 30 contributed to the training set and different 13\n",
      "to the test set. 32x32 bitmaps are divided into nonoverlapping blocks of\n",
      "4x4 and the number of on pixels are counted in each block. This generates\n",
      "an input matrix of 8x8 where each element is an integer in the range\n",
      "0..16. This reduces dimensionality and gives invariance to small\n",
      "distortions.\n",
      "\n",
      "For info on NIST preprocessing routines, see M. D. Garris, J. L. Blue, G.\n",
      "T. Candela, D. L. Dimmick, J. Geist, P. J. Grother, S. A. Janet, and C.\n",
      "L. Wilson, NIST Form-Based Handprint Recognition System, NISTIR 5469,\n",
      "1994.\n",
      "\n",
      ".. topic:: References\n",
      "\n",
      "  - C. Kaynak (1995) Methods of Combining Multiple Classifiers and Their\n",
      "    Applications to Handwritten Digit Recognition, MSc Thesis, Institute of\n",
      "    Graduate Studies in Science and Engineering, Bogazici University.\n",
      "  - E. Alpaydin, C. Kaynak (1998) Cascading Classifiers, Kybernetika.\n",
      "  - Ken Tang and Ponnuthurai N. Suganthan and Xi Yao and A. Kai Qin.\n",
      "    Linear dimensionalityreduction using relevance weighted LDA. School of\n",
      "    Electrical and Electronic Engineering Nanyang Technological University.\n",
      "    2005.\n",
      "  - Claudio Gentile. A New Approximate Maximal Margin Classification\n",
      "    Algorithm. NIPS. 2000.\n"
     ]
    }
   ],
   "source": [
    "print(load_digits()['DESCR'])"
   ]
  },
  {
   "cell_type": "code",
   "execution_count": 85,
   "metadata": {},
   "outputs": [],
   "source": [
    "digits = load_digits()"
   ]
  },
  {
   "cell_type": "code",
   "execution_count": 86,
   "metadata": {},
   "outputs": [
    {
     "data": {
      "text/plain": [
       "<Figure size 432x288 with 0 Axes>"
      ]
     },
     "metadata": {},
     "output_type": "display_data"
    },
    {
     "data": {
      "image/png": "[encoded data removed]",
      "text/plain": [
       "<Figure size 288x288 with 1 Axes>"
      ]
     },
     "metadata": {
      "needs_background": "light"
     },
     "output_type": "display_data"
    }
   ],
   "source": [
    "plt.gray()\n",
    "plt.matshow(digits.images[93]) \n",
    "plt.show() "
   ]
  },
  {
   "cell_type": "code",
   "execution_count": 87,
   "metadata": {},
   "outputs": [
    {
     "name": "stdout",
     "output_type": "stream",
     "text": [
      "(1797, 64)\n",
      "(1797,)\n",
      "(10,)\n",
      "(1797, 8, 8)\n"
     ]
    }
   ],
   "source": [
    "print(digits.data.shape)\n",
    "print(digits.target.shape)\n",
    "print(digits.target_names.shape)\n",
    "print(digits.images.shape)"
   ]
  },
  {
   "cell_type": "code",
   "execution_count": 88,
   "metadata": {},
   "outputs": [],
   "source": [
    "x_train, x_test, y_train, y_test = train_test_split(digits.data, digits.target)"
   ]
  },
  {
   "cell_type": "code",
   "execution_count": 89,
   "metadata": {},
   "outputs": [
    {
     "name": "stdout",
     "output_type": "stream",
     "text": [
      "(1347, 64)\n",
      "(1347,)\n",
      "(450, 64)\n",
      "(450,)\n"
     ]
    }
   ],
   "source": [
    "print(x_train.shape)\n",
    "print(y_train.shape)\n",
    "print(x_test.shape)\n",
    "print(y_test.shape)"
   ]
  },
  {
   "cell_type": "code",
   "execution_count": 90,
   "metadata": {},
   "outputs": [
    {
     "name": "stdout",
     "output_type": "stream",
     "text": [
      "(1347, 64)\n",
      "(450, 64)\n"
     ]
    }
   ],
   "source": [
    "x_train = x_train.astype('float64')\n",
    "x_test = x_test.astype('float64')\n",
    "x_train /= 255\n",
    "x_test /= 255\n",
    "print(x_train.shape)\n",
    "print(x_test.shape)"
   ]
  },
  {
   "cell_type": "code",
   "execution_count": 91,
   "metadata": {},
   "outputs": [
    {
     "name": "stdout",
     "output_type": "stream",
     "text": [
      "(1347, 10)\n",
      "(450, 10)\n"
     ]
    }
   ],
   "source": [
    "y_train = y_train.astype('int64')\n",
    "y_test = y_test.astype('int64')\n",
    "y_train = to_categorical(y_train, 10)\n",
    "y_test = to_categorical(y_test, 10)\n",
    "print(y_train.shape)\n",
    "print(y_test.shape)"
   ]
  },
  {
   "cell_type": "code",
   "execution_count": 154,
   "metadata": {},
   "outputs": [
    {
     "name": "stdout",
     "output_type": "stream",
     "text": [
      "Model: \"sequential_14\"\n",
      "_________________________________________________________________\n",
      "Layer (type)                 Output Shape              Param #   \n",
      "=================================================================\n",
      "dense_63 (Dense)             (None, 128)               8320      \n",
      "_________________________________________________________________\n",
      "activation_63 (Activation)   (None, 128)               0         \n",
      "_________________________________________________________________\n",
      "dense_64 (Dense)             (None, 64)                8256      \n",
      "_________________________________________________________________\n",
      "activation_64 (Activation)   (None, 64)                0         \n",
      "_________________________________________________________________\n",
      "dropout_18 (Dropout)         (None, 64)                0         \n",
      "_________________________________________________________________\n",
      "dense_65 (Dense)             (None, 32)                2080      \n",
      "_________________________________________________________________\n",
      "activation_65 (Activation)   (None, 32)                0         \n",
      "_________________________________________________________________\n",
      "dropout_19 (Dropout)         (None, 32)                0         \n",
      "_________________________________________________________________\n",
      "dense_66 (Dense)             (None, 10)                330       \n",
      "_________________________________________________________________\n",
      "activation_66 (Activation)   (None, 10)                0         \n",
      "=================================================================\n",
      "Total params: 18,986\n",
      "Trainable params: 18,986\n",
      "Non-trainable params: 0\n",
      "_________________________________________________________________\n"
     ]
    }
   ],
   "source": [
    "test_model = Sequential([\n",
    "    Dense(128, input_shape = (64,)),\n",
    "    Activation('relu'),\n",
    "    Dense(64),\n",
    "    Activation('relu'),\n",
    "    Dropout(0.5),\n",
    "    Dense(32),\n",
    "    Activation('relu'),\n",
    "    Dropout(0.3),\n",
    "    Dense(10),\n",
    "    Activation('softmax'),\n",
    "])\n",
    "test_model.summary()"
   ]
  },
  {
   "cell_type": "code",
   "execution_count": 155,
   "metadata": {},
   "outputs": [],
   "source": [
    "test_model.compile(optimizer = 'adam',\n",
    "             loss = \"categorical_crossentropy\",\n",
    "             metrics = ['mae', 'accuracy'])"
   ]
  },
  {
   "cell_type": "code",
   "execution_count": 156,
   "metadata": {},
   "outputs": [
    {
     "name": "stdout",
     "output_type": "stream",
     "text": [
      "Train on 1347 samples, validate on 450 samples\n",
      "Epoch 1/30\n",
      "1347/1347 [==============================] - 0s 234us/step - loss: 2.2865 - mae: 0.1797 - accuracy: 0.1292 - val_loss: 2.2534 - val_mae: 0.1790 - val_accuracy: 0.1978\n",
      "Epoch 2/30\n",
      "1347/1347 [==============================] - 0s 63us/step - loss: 2.2060 - mae: 0.1778 - accuracy: 0.2205 - val_loss: 2.0834 - val_mae: 0.1748 - val_accuracy: 0.3867\n",
      "Epoch 3/30\n",
      "1347/1347 [==============================] - 0s 75us/step - loss: 1.9873 - mae: 0.1709 - accuracy: 0.3059 - val_loss: 1.7016 - val_mae: 0.1614 - val_accuracy: 0.5378\n",
      "Epoch 4/30\n",
      "1347/1347 [==============================] - 0s 87us/step - loss: 1.6931 - mae: 0.1576 - accuracy: 0.4091 - val_loss: 1.3548 - val_mae: 0.1430 - val_accuracy: 0.6911\n",
      "Epoch 5/30\n",
      "1347/1347 [==============================] - 0s 59us/step - loss: 1.4407 - mae: 0.1418 - accuracy: 0.4811 - val_loss: 1.0826 - val_mae: 0.1245 - val_accuracy: 0.7778\n",
      "Epoch 6/30\n",
      "1347/1347 [==============================] - 0s 82us/step - loss: 1.2921 - mae: 0.1313 - accuracy: 0.5457 - val_loss: 0.9266 - val_mae: 0.1101 - val_accuracy: 0.7911\n",
      "Epoch 7/30\n",
      "1347/1347 [==============================] - 0s 77us/step - loss: 1.1663 - mae: 0.1198 - accuracy: 0.5947 - val_loss: 0.7948 - val_mae: 0.0980 - val_accuracy: 0.8222\n",
      "Epoch 8/30\n",
      "1347/1347 [==============================] - 0s 59us/step - loss: 1.0660 - mae: 0.1123 - accuracy: 0.6199 - val_loss: 0.7064 - val_mae: 0.0877 - val_accuracy: 0.8267\n",
      "Epoch 9/30\n",
      "1347/1347 [==============================] - 0s 78us/step - loss: 0.9895 - mae: 0.1049 - accuracy: 0.6488 - val_loss: 0.6137 - val_mae: 0.0783 - val_accuracy: 0.8444\n",
      "Epoch 10/30\n",
      "1347/1347 [==============================] - 0s 76us/step - loss: 0.9406 - mae: 0.0992 - accuracy: 0.6808 - val_loss: 0.5726 - val_mae: 0.0729 - val_accuracy: 0.8778\n",
      "Epoch 11/30\n",
      "1347/1347 [==============================] - 0s 108us/step - loss: 0.8694 - mae: 0.0943 - accuracy: 0.7164 - val_loss: 0.5268 - val_mae: 0.0672 - val_accuracy: 0.8800\n",
      "Epoch 12/30\n",
      "1347/1347 [==============================] - 0s 97us/step - loss: 0.8200 - mae: 0.0889 - accuracy: 0.7290 - val_loss: 0.4827 - val_mae: 0.0613 - val_accuracy: 0.8889\n",
      "Epoch 13/30\n",
      "1347/1347 [==============================] - 0s 100us/step - loss: 0.7544 - mae: 0.0827 - accuracy: 0.7416 - val_loss: 0.4471 - val_mae: 0.0569 - val_accuracy: 0.8933\n",
      "Epoch 14/30\n",
      "1347/1347 [==============================] - 0s 76us/step - loss: 0.7433 - mae: 0.0817 - accuracy: 0.7506 - val_loss: 0.4093 - val_mae: 0.0528 - val_accuracy: 0.9000\n",
      "Epoch 15/30\n",
      "1347/1347 [==============================] - 0s 73us/step - loss: 0.6931 - mae: 0.0768 - accuracy: 0.7647 - val_loss: 0.3729 - val_mae: 0.0484 - val_accuracy: 0.9089\n",
      "Epoch 16/30\n",
      "1347/1347 [==============================] - 0s 68us/step - loss: 0.6505 - mae: 0.0725 - accuracy: 0.7803 - val_loss: 0.3564 - val_mae: 0.0463 - val_accuracy: 0.9111\n",
      "Epoch 17/30\n",
      "1347/1347 [==============================] - 0s 74us/step - loss: 0.6353 - mae: 0.0721 - accuracy: 0.7773 - val_loss: 0.3254 - val_mae: 0.0431 - val_accuracy: 0.9111\n",
      "Epoch 18/30\n",
      "1347/1347 [==============================] - 0s 76us/step - loss: 0.6027 - mae: 0.0682 - accuracy: 0.7958 - val_loss: 0.3080 - val_mae: 0.0401 - val_accuracy: 0.9311\n",
      "Epoch 19/30\n",
      "1347/1347 [==============================] - 0s 84us/step - loss: 0.6006 - mae: 0.0671 - accuracy: 0.7996 - val_loss: 0.2949 - val_mae: 0.0385 - val_accuracy: 0.9200\n",
      "Epoch 20/30\n",
      "1347/1347 [==============================] - 0s 64us/step - loss: 0.5514 - mae: 0.0622 - accuracy: 0.8270 - val_loss: 0.2825 - val_mae: 0.0366 - val_accuracy: 0.9311\n",
      "Epoch 21/30\n",
      "1347/1347 [==============================] - 0s 90us/step - loss: 0.5273 - mae: 0.0605 - accuracy: 0.8203 - val_loss: 0.2683 - val_mae: 0.0346 - val_accuracy: 0.9244\n",
      "Epoch 22/30\n",
      "1347/1347 [==============================] - 0s 118us/step - loss: 0.5442 - mae: 0.0607 - accuracy: 0.8196 - val_loss: 0.2618 - val_mae: 0.0339 - val_accuracy: 0.9267\n",
      "Epoch 23/30\n",
      "1347/1347 [==============================] - 0s 86us/step - loss: 0.5013 - mae: 0.0579 - accuracy: 0.8389 - val_loss: 0.2523 - val_mae: 0.0329 - val_accuracy: 0.9378\n",
      "Epoch 24/30\n",
      "1347/1347 [==============================] - 0s 83us/step - loss: 0.5098 - mae: 0.0587 - accuracy: 0.8122 - val_loss: 0.2450 - val_mae: 0.0308 - val_accuracy: 0.9244\n",
      "Epoch 25/30\n",
      "1347/1347 [==============================] - 0s 76us/step - loss: 0.4473 - mae: 0.0529 - accuracy: 0.8441 - val_loss: 0.2508 - val_mae: 0.0306 - val_accuracy: 0.9178\n",
      "Epoch 26/30\n",
      "1347/1347 [==============================] - 0s 80us/step - loss: 0.4835 - mae: 0.0537 - accuracy: 0.8404 - val_loss: 0.2296 - val_mae: 0.0286 - val_accuracy: 0.9311\n",
      "Epoch 27/30\n",
      "1347/1347 [==============================] - 0s 100us/step - loss: 0.4289 - mae: 0.0508 - accuracy: 0.8612 - val_loss: 0.2172 - val_mae: 0.0271 - val_accuracy: 0.9400\n",
      "Epoch 28/30\n",
      "1347/1347 [==============================] - 0s 76us/step - loss: 0.4208 - mae: 0.0500 - accuracy: 0.8634 - val_loss: 0.2144 - val_mae: 0.0260 - val_accuracy: 0.9378\n",
      "Epoch 29/30\n",
      "1347/1347 [==============================] - 0s 102us/step - loss: 0.4213 - mae: 0.0487 - accuracy: 0.8627 - val_loss: 0.2080 - val_mae: 0.0257 - val_accuracy: 0.9378\n",
      "Epoch 30/30\n",
      "1347/1347 [==============================] - 0s 105us/step - loss: 0.3865 - mae: 0.0451 - accuracy: 0.8768 - val_loss: 0.2026 - val_mae: 0.0243 - val_accuracy: 0.9422\n"
     ]
    }
   ],
   "source": [
    "h = test_model.fit(x_train, y_train, epochs = 30, batch_size = 32, validation_data = (x_test, y_test))"
   ]
  },
  {
   "cell_type": "code",
   "execution_count": 157,
   "metadata": {},
   "outputs": [
    {
     "name": "stdout",
     "output_type": "stream",
     "text": [
      "450/450 [==============================] - 0s 37us/step\n"
     ]
    }
   ],
   "source": [
    "accuracy = test_model.evaluate(x_test, y_test)"
   ]
  },
  {
   "cell_type": "code",
   "execution_count": 158,
   "metadata": {},
   "outputs": [
    {
     "data": {
      "text/plain": [
       "<matplotlib.image.AxesImage at 0x147871dd0>"
      ]
     },
     "execution_count": 158,
     "metadata": {},
     "output_type": "execute_result"
    },
    {
     "data": {
      "image/png": "[encoded data removed]",
      "text/plain": [
       "<Figure size 432x288 with 1 Axes>"
      ]
     },
     "metadata": {
      "needs_background": "light"
     },
     "output_type": "display_data"
    }
   ],
   "source": [
    "plt.imshow(x_test[23].reshape(8,8))"
   ]
  },
  {
   "cell_type": "code",
   "execution_count": 159,
   "metadata": {},
   "outputs": [
    {
     "data": {
      "text/plain": [
       "(64,)"
      ]
     },
     "execution_count": 159,
     "metadata": {},
     "output_type": "execute_result"
    }
   ],
   "source": [
    "x_test[0].shape"
   ]
  },
  {
   "cell_type": "code",
   "execution_count": 160,
   "metadata": {},
   "outputs": [],
   "source": [
    "pred = test_model.predict(x_test[index].reshape(1, 64))"
   ]
  },
  {
   "cell_type": "code",
   "execution_count": 161,
   "metadata": {},
   "outputs": [],
   "source": [
    "y_pred = []\n",
    "for index in range (450):\n",
    "    pred = test_model.predict(x_test[index].reshape(1, 64))\n",
    "    y_pred.append(pred.argmax())"
   ]
  },
  {
   "cell_type": "code",
   "execution_count": 162,
   "metadata": {},
   "outputs": [],
   "source": [
    "y_pred = to_categorical(y_pred, 10)"
   ]
  },
  {
   "cell_type": "code",
   "execution_count": 163,
   "metadata": {},
   "outputs": [
    {
     "data": {
      "text/plain": [
       "array([[0., 0., 0., ..., 1., 0., 0.],\n",
       "       [0., 0., 0., ..., 0., 0., 0.],\n",
       "       [0., 0., 0., ..., 0., 0., 0.],\n",
       "       ...,\n",
       "       [0., 0., 0., ..., 0., 0., 0.],\n",
       "       [0., 0., 0., ..., 0., 0., 0.],\n",
       "       [0., 0., 0., ..., 1., 0., 0.]], dtype=float32)"
      ]
     },
     "execution_count": 163,
     "metadata": {},
     "output_type": "execute_result"
    }
   ],
   "source": [
    "y_test"
   ]
  },
  {
   "cell_type": "code",
   "execution_count": 164,
   "metadata": {},
   "outputs": [],
   "source": [
    "cm = confusion_matrix(y_test.argmax(axis=1), y_pred.argmax(axis=1))"
   ]
  },
  {
   "cell_type": "code",
   "execution_count": 165,
   "metadata": {},
   "outputs": [
    {
     "data": {
      "text/plain": [
       "array([[47,  0,  0,  0,  1,  0,  1,  0,  0,  0],\n",
       "       [ 0, 40,  0,  0,  0,  0,  1,  1,  0,  3],\n",
       "       [ 0,  0, 48,  0,  0,  0,  0,  0,  0,  0],\n",
       "       [ 0,  0,  0, 40,  0,  0,  0,  0,  0,  2],\n",
       "       [ 0,  0,  0,  0, 44,  0,  0,  0,  0,  0],\n",
       "       [ 0,  0,  0,  1,  0, 44,  0,  0,  0,  2],\n",
       "       [ 0,  0,  0,  0,  0,  0, 48,  0,  0,  0],\n",
       "       [ 0,  0,  0,  0,  0,  0,  0, 48,  0,  0],\n",
       "       [ 0,  6,  2,  1,  0,  1,  0,  1, 33,  0],\n",
       "       [ 0,  0,  0,  1,  0,  1,  0,  1,  0, 32]])"
      ]
     },
     "execution_count": 165,
     "metadata": {},
     "output_type": "execute_result"
    }
   ],
   "source": [
    "cm"
   ]
  },
  {
   "cell_type": "code",
   "execution_count": 166,
   "metadata": {},
   "outputs": [
    {
     "data": {
      "image/png": "[encoded data removed]",
      "text/plain": [
       "<Figure size 1008x864 with 2 Axes>"
      ]
     },
     "metadata": {
      "needs_background": "light"
     },
     "output_type": "display_data"
    }
   ],
   "source": [
    "fig, ax = plt.subplots(figsize=(14, 12))\n",
    "sns.heatmap(cm, annot=True, cmap='Greens', fmt='d', ax=ax)\n",
    "plt.title('Confusion Matrix for training dataset')\n",
    "plt.xlabel('Predicted label')\n",
    "plt.ylabel('True label')\n",
    "plt.show()"
   ]
  },
  {
   "cell_type": "code",
   "execution_count": 167,
   "metadata": {},
   "outputs": [
    {
     "name": "stdout",
     "output_type": "stream",
     "text": [
      "0.9385352985633466\n",
      "0.9422222222222222\n",
      "0.9413746246787804\n"
     ]
    }
   ],
   "source": [
    "print(f1_score(y_test.argmax(axis=1), y_pred.argmax(axis=1), average='macro'))\n",
    "print(f1_score(y_test.argmax(axis=1), y_pred.argmax(axis=1), average='micro'))\n",
    "print(f1_score(y_test.argmax(axis=1), y_pred.argmax(axis=1), average='weighted'))"
   ]
  },
  {
   "cell_type": "code",
   "execution_count": 169,
   "metadata": {},
   "outputs": [
    {
     "data": {
      "image/png": "[encoded data removed]",
      "text/plain": [
       "<Figure size 432x288 with 1 Axes>"
      ]
     },
     "metadata": {
      "needs_background": "light"
     },
     "output_type": "display_data"
    }
   ],
   "source": [
    "##ACCURACY GRAPH\n",
    "plt.plot(h.history['accuracy'])\n",
    "plt.plot(h.history['val_accuracy'])\n",
    "plt.title('model accuracy')\n",
    "plt.ylabel('accuracy')\n",
    "plt.xlabel('epoch')\n",
    "plt.legend(['train', 'test'], loc='upper left')\n",
    "plt.show()"
   ]
  },
  {
   "cell_type": "code",
   "execution_count": 170,
   "metadata": {},
   "outputs": [
    {
     "data": {
      "image/png": "[encoded data removed]",
      "text/plain": [
       "<Figure size 432x288 with 1 Axes>"
      ]
     },
     "metadata": {
      "needs_background": "light"
     },
     "output_type": "display_data"
    }
   ],
   "source": [
    "##LOSS GRAPH\n",
    "plt.plot(h.history['loss'])\n",
    "plt.plot(h.history['val_loss'])\n",
    "plt.title('model loss')\n",
    "plt.ylabel('loss')\n",
    "plt.xlabel('epoch')\n",
    "plt.legend(['train', 'test'], loc='upper left')\n",
    "plt.show()"
   ]
  },
  {
   "cell_type": "code",
   "execution_count": 171,
   "metadata": {},
   "outputs": [
    {
     "data": {
      "image/png": "[encoded data removed]",
      "text/plain": [
       "<Figure size 432x288 with 1 Axes>"
      ]
     },
     "metadata": {
      "needs_background": "light"
     },
     "output_type": "display_data"
    }
   ],
   "source": [
    "##LOSS GRAPH\n",
    "plt.plot(h.history['mae'])\n",
    "plt.plot(h.history['val_mae'])\n",
    "plt.title('model mae')\n",
    "plt.ylabel('mae')\n",
    "plt.xlabel('epoch')\n",
    "plt.legend(['train', 'test'], loc='upper left')\n",
    "plt.show()"
   ]
  }
 ],
 "metadata": {
  "kernelspec": {
   "display_name": "Python 3",
   "language": "python",
   "name": "python3"
  },
  "language_info": {
   "codemirror_mode": {
    "name": "ipython",
    "version": 3
   },
   "file_extension": ".py",
   "mimetype": "text/x-python",
   "name": "python",
   "nbconvert_exporter": "python",
   "pygments_lexer": "ipython3",
   "version": "3.7.6"
  }
 },
 "nbformat": 4,
 "nbformat_minor": 4
}
